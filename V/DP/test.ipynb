{
 "cells": [
  {
   "cell_type": "code",
   "execution_count": 3,
   "metadata": {},
   "outputs": [],
   "source": [
    "import numpy as np\n",
    "from tqdm import tqdm\n",
    "import os\n",
    "import pandas as pd"
   ]
  },
  {
   "cell_type": "code",
   "execution_count": 4,
   "metadata": {},
   "outputs": [],
   "source": [
    "A = 10 ** -10\n",
    "KB = 1.380649 * (10 ** -23)\n",
    "ELEMENTS = {\n",
    "    'He': {\n",
    "        'eps': 6.03 * KB,\n",
    "        'sig': 2.63 * A,\n",
    "        'm': 6.67 * (10 ** -27),\n",
    "        'r': 1.4 * A\n",
    "    }\n",
    "}\n",
    "size = ELEMENTS['He']['r'] * 100\n",
    "params = {\n",
    "    'natoms': 10, # количество атомов (частиц)\n",
    "    'element': ELEMENTS['He'], # масса\n",
    "    'charge': 1, # заряд\n",
    "    'radius': ELEMENTS['He']['r'] * 1, # радиус (для визуализации)\n",
    "    'dt': 0.001, # временной шаг\n",
    "    'k': 1, # коэф. пропорциональности\n",
    "    # 'k': 10**-24, # коэф. пропорциональности\n",
    "    'steps': 1000, # количество шагов\n",
    "    'freq': 1, # через какое число шагов вести запись состояний\n",
    "    'T': 100,\n",
    "    'box': ((0, size), (0, size)),\n",
    "}"
   ]
  },
  {
   "cell_type": "code",
   "execution_count": 5,
   "metadata": {},
   "outputs": [
    {
     "data": {
      "text/plain": [
       "10"
      ]
     },
     "execution_count": 5,
     "metadata": {},
     "output_type": "execute_result"
    }
   ],
   "source": [
    "params['box']\n",
    "params['natoms']"
   ]
  },
  {
   "cell_type": "code",
   "execution_count": 6,
   "metadata": {},
   "outputs": [],
   "source": [
    "natoms = params['natoms']\n",
    "box = params['box']\n",
    "dim = len(box)\n",
    "\n",
    "pos = np.random.rand(natoms,dim)\n",
    "\n",
    "for i in range(dim):\n",
    "    pos[:,i] = box[i][0] + (box[i][1] -  box[i][0]) * pos[:,i]"
   ]
  },
  {
   "cell_type": "code",
   "execution_count": 7,
   "metadata": {},
   "outputs": [
    {
     "data": {
      "text/plain": [
       "array([[1.88124969e-09, 1.29888047e-09],\n",
       "       [1.87213183e-09, 3.63083590e-09],\n",
       "       [1.75782856e-09, 1.05780654e-08],\n",
       "       [1.15550859e-09, 7.51262772e-09],\n",
       "       [9.30886836e-09, 1.12648294e-09],\n",
       "       [7.51662008e-09, 7.70518013e-09],\n",
       "       [1.05057438e-08, 6.28978490e-09],\n",
       "       [1.06983108e-08, 2.84463151e-09],\n",
       "       [8.05386305e-09, 1.13687686e-08],\n",
       "       [1.13910701e-08, 5.67712592e-09]])"
      ]
     },
     "execution_count": 7,
     "metadata": {},
     "output_type": "execute_result"
    }
   ],
   "source": [
    "pos"
   ]
  },
  {
   "cell_type": "code",
   "execution_count": 8,
   "metadata": {},
   "outputs": [
    {
     "data": {
      "image/png": "[encoded data removed]",
      "text/plain": [
       "<Figure size 720x720 with 1 Axes>"
      ]
     },
     "metadata": {
      "needs_background": "light"
     },
     "output_type": "display_data"
    }
   ],
   "source": [
    "import numpy as np\n",
    "import matplotlib.pyplot as plt\n",
    "\n",
    "def generate_points_with_min_distance(n, size, min_dist):\n",
    "    # compute grid shape based on number of points\n",
    "    num_y = np.int32(np.sqrt(n)) + 1\n",
    "    num_x = np.int32(n / num_y) + 1\n",
    "\n",
    "    # create regularly spaced neurons\n",
    "    x = np.linspace(-size, size, num_x, dtype=np.float32)\n",
    "    y = np.linspace(-size, size, num_y, dtype=np.float32)\n",
    "    coords = np.stack(np.meshgrid(x, y), -1).reshape(-1,2)\n",
    "\n",
    "    # compute spacing\n",
    "    init_dist = np.min((x[1]-x[0], y[1]-y[0]))\n",
    "\n",
    "    # perturb points\n",
    "    max_movement = (init_dist - min_dist)/2\n",
    "    noise = np.random.uniform(low=-max_movement,\n",
    "                                high=max_movement,\n",
    "                                size=(len(coords), 2))\n",
    "    coords += noise\n",
    "\n",
    "    return coords\n",
    "\n",
    "r_plus_sig = 2 * 1.4 * 10**-10 + 2.63 * 10**-10\n",
    "coords = generate_points_with_min_distance(n=100, size=r_plus_sig * 100, min_dist=r_plus_sig)\n",
    "\n",
    "plt.figure(figsize=(10,10))\n",
    "plt.scatter(coords[:,0], coords[:,1], s=3)\n",
    "plt.show()"
   ]
  },
  {
   "cell_type": "code",
   "execution_count": 36,
   "metadata": {},
   "outputs": [],
   "source": [
    "n = 100\n",
    "size = r_plus_sig * 100\n",
    "min_dist = r_plus_sig\n",
    "\n",
    "# if np.sqrt(n)\n",
    "num_y = np.int32(np.sqrt(n)) + 1\n",
    "num_x = np.int32(n / num_y) + 1\n",
    "x = np.linspace(-size, size, num_x)\n",
    "y = np.linspace(-size, size, num_y)\n",
    "coords = np.stack(np.meshgrid(x, y), -1).reshape(-1,2)[0:n]\n",
    "\n",
    "init_dist = np.min((x[1]-x[0], y[1]-y[0]))\n",
    "max_movement = (init_dist - min_dist)/2\n",
    "noise = np.random.uniform(low=-max_movement,\n",
    "                                high=max_movement,\n",
    "                                size=(len(coords), 2))\n",
    "coords += noise"
   ]
  },
  {
   "cell_type": "code",
   "execution_count": 37,
   "metadata": {},
   "outputs": [
    {
     "data": {
      "text/plain": [
       "100"
      ]
     },
     "execution_count": 37,
     "metadata": {},
     "output_type": "execute_result"
    }
   ],
   "source": [
    "len(coords)"
   ]
  },
  {
   "cell_type": "code",
   "execution_count": 2,
   "metadata": {},
   "outputs": [],
   "source": [
    "import numpy as np"
   ]
  },
  {
   "cell_type": "code",
   "execution_count": 10,
   "metadata": {},
   "outputs": [],
   "source": [
    "Rij = np.array([-15.5255126953125, -14.110847473144531], dtype=np.float64)\n",
    "Rij_module = 20.979932336941868\n",
    "force = 24 * 8.32531347e-16 * (2 * (2.63e-08**12) - (2.63e-08**6)) * Rij / (Rij_module**14)"
   ]
  }
 ],
 "metadata": {
  "interpreter": {
   "hash": "d9a94203f3e05cbfc15fc808424551e74ec2105f6256de40913b2086d192f406"
  },
  "kernelspec": {
   "display_name": "Python 3.9.7 ('mmm')",
   "language": "python",
   "name": "python3"
  },
  "language_info": {
   "codemirror_mode": {
    "name": "ipython",
    "version": 3
   },
   "file_extension": ".py",
   "mimetype": "text/x-python",
   "name": "python",
   "nbconvert_exporter": "python",
   "pygments_lexer": "ipython3",
   "version": "3.9.7"
  },
  "orig_nbformat": 4
 },
 "nbformat": 4,
 "nbformat_minor": 2
}
